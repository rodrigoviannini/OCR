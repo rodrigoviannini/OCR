{
  "nbformat": 4,
  "nbformat_minor": 0,
  "metadata": {
    "colab": {
      "provenance": [],
      "collapsed_sections": [],
      "authorship_tag": "ABX9TyON3/Fz6qSkUxenkZKem4kC",
      "include_colab_link": true
    },
    "kernelspec": {
      "name": "python3",
      "display_name": "Python 3"
    },
    "language_info": {
      "name": "python"
    }
  },
  "cells": [
    {
      "cell_type": "markdown",
      "metadata": {
        "id": "view-in-github",
        "colab_type": "text"
      },
      "source": [
        "<a href=\"https://colab.research.google.com/github/rodrigoviannini/OCR/blob/master/similarity_strings.ipynb\" target=\"_parent\"><img src=\"https://colab.research.google.com/assets/colab-badge.svg\" alt=\"Open In Colab\"/></a>"
      ]
    },
    {
      "cell_type": "markdown",
      "source": [
        "IMPORTS"
      ],
      "metadata": {
        "id": "at9uRkRdJpj6"
      }
    },
    {
      "cell_type": "code",
      "source": [
        "import pandas as pd"
      ],
      "metadata": {
        "id": "kZuJi8C8JrSq"
      },
      "execution_count": 1,
      "outputs": []
    },
    {
      "cell_type": "markdown",
      "source": [
        "WORDS"
      ],
      "metadata": {
        "id": "m4QfUfLNJuJs"
      }
    },
    {
      "cell_type": "code",
      "source": [
        "list_strings_one = ['escola', 'Rio de Janeiro', 'Brasil', 'Flamengo', 'São Paulo', 'hospital', 'objeção', 'determine', 'jornal', 'alimento']"
      ],
      "metadata": {
        "id": "IJJ_v-oOIPGt"
      },
      "execution_count": 2,
      "outputs": []
    },
    {
      "cell_type": "code",
      "source": [
        "list_strings_two = ['escolaridade','rio_janeiro', 'brasileiro', 'flamenguista', 'são-paulino', 'hospitalizado', 'objetividade', 'determinação', 'jornalismo', 'alimentação']"
      ],
      "metadata": {
        "id": "uFdCOu3bIdLv"
      },
      "execution_count": 3,
      "outputs": []
    },
    {
      "cell_type": "code",
      "execution_count": 26,
      "metadata": {
        "colab": {
          "base_uri": "https://localhost:8080/",
          "height": 363
        },
        "id": "T4sROYmZIC3g",
        "outputId": "2257cbe2-b58e-4827-a999-18e93e83d7d2"
      },
      "outputs": [
        {
          "output_type": "execute_result",
          "data": {
            "text/plain": [
              "         WORD_ONE       WORD_TWO\n",
              "0          escola   escolaridade\n",
              "1  rio de janeiro    rio_janeiro\n",
              "2          brasil     brasileiro\n",
              "3        flamengo   flamenguista\n",
              "4       são paulo    são-paulino\n",
              "5        hospital  hospitalizado\n",
              "6         objeção   objetividade\n",
              "7       determine   determinação\n",
              "8          jornal     jornalismo\n",
              "9        alimento    alimentação"
            ],
            "text/html": [
              "\n",
              "  <div id=\"df-8b0f8676-78d3-4f6a-a949-46496a54d09c\">\n",
              "    <div class=\"colab-df-container\">\n",
              "      <div>\n",
              "<style scoped>\n",
              "    .dataframe tbody tr th:only-of-type {\n",
              "        vertical-align: middle;\n",
              "    }\n",
              "\n",
              "    .dataframe tbody tr th {\n",
              "        vertical-align: top;\n",
              "    }\n",
              "\n",
              "    .dataframe thead th {\n",
              "        text-align: right;\n",
              "    }\n",
              "</style>\n",
              "<table border=\"1\" class=\"dataframe\">\n",
              "  <thead>\n",
              "    <tr style=\"text-align: right;\">\n",
              "      <th></th>\n",
              "      <th>WORD_ONE</th>\n",
              "      <th>WORD_TWO</th>\n",
              "    </tr>\n",
              "  </thead>\n",
              "  <tbody>\n",
              "    <tr>\n",
              "      <th>0</th>\n",
              "      <td>escola</td>\n",
              "      <td>escolaridade</td>\n",
              "    </tr>\n",
              "    <tr>\n",
              "      <th>1</th>\n",
              "      <td>rio de janeiro</td>\n",
              "      <td>rio_janeiro</td>\n",
              "    </tr>\n",
              "    <tr>\n",
              "      <th>2</th>\n",
              "      <td>brasil</td>\n",
              "      <td>brasileiro</td>\n",
              "    </tr>\n",
              "    <tr>\n",
              "      <th>3</th>\n",
              "      <td>flamengo</td>\n",
              "      <td>flamenguista</td>\n",
              "    </tr>\n",
              "    <tr>\n",
              "      <th>4</th>\n",
              "      <td>são paulo</td>\n",
              "      <td>são-paulino</td>\n",
              "    </tr>\n",
              "    <tr>\n",
              "      <th>5</th>\n",
              "      <td>hospital</td>\n",
              "      <td>hospitalizado</td>\n",
              "    </tr>\n",
              "    <tr>\n",
              "      <th>6</th>\n",
              "      <td>objeção</td>\n",
              "      <td>objetividade</td>\n",
              "    </tr>\n",
              "    <tr>\n",
              "      <th>7</th>\n",
              "      <td>determine</td>\n",
              "      <td>determinação</td>\n",
              "    </tr>\n",
              "    <tr>\n",
              "      <th>8</th>\n",
              "      <td>jornal</td>\n",
              "      <td>jornalismo</td>\n",
              "    </tr>\n",
              "    <tr>\n",
              "      <th>9</th>\n",
              "      <td>alimento</td>\n",
              "      <td>alimentação</td>\n",
              "    </tr>\n",
              "  </tbody>\n",
              "</table>\n",
              "</div>\n",
              "      <button class=\"colab-df-convert\" onclick=\"convertToInteractive('df-8b0f8676-78d3-4f6a-a949-46496a54d09c')\"\n",
              "              title=\"Convert this dataframe to an interactive table.\"\n",
              "              style=\"display:none;\">\n",
              "        \n",
              "  <svg xmlns=\"http://www.w3.org/2000/svg\" height=\"24px\"viewBox=\"0 0 24 24\"\n",
              "       width=\"24px\">\n",
              "    <path d=\"M0 0h24v24H0V0z\" fill=\"none\"/>\n",
              "    <path d=\"M18.56 5.44l.94 2.06.94-2.06 2.06-.94-2.06-.94-.94-2.06-.94 2.06-2.06.94zm-11 1L8.5 8.5l.94-2.06 2.06-.94-2.06-.94L8.5 2.5l-.94 2.06-2.06.94zm10 10l.94 2.06.94-2.06 2.06-.94-2.06-.94-.94-2.06-.94 2.06-2.06.94z\"/><path d=\"M17.41 7.96l-1.37-1.37c-.4-.4-.92-.59-1.43-.59-.52 0-1.04.2-1.43.59L10.3 9.45l-7.72 7.72c-.78.78-.78 2.05 0 2.83L4 21.41c.39.39.9.59 1.41.59.51 0 1.02-.2 1.41-.59l7.78-7.78 2.81-2.81c.8-.78.8-2.07 0-2.86zM5.41 20L4 18.59l7.72-7.72 1.47 1.35L5.41 20z\"/>\n",
              "  </svg>\n",
              "      </button>\n",
              "      \n",
              "  <style>\n",
              "    .colab-df-container {\n",
              "      display:flex;\n",
              "      flex-wrap:wrap;\n",
              "      gap: 12px;\n",
              "    }\n",
              "\n",
              "    .colab-df-convert {\n",
              "      background-color: #E8F0FE;\n",
              "      border: none;\n",
              "      border-radius: 50%;\n",
              "      cursor: pointer;\n",
              "      display: none;\n",
              "      fill: #1967D2;\n",
              "      height: 32px;\n",
              "      padding: 0 0 0 0;\n",
              "      width: 32px;\n",
              "    }\n",
              "\n",
              "    .colab-df-convert:hover {\n",
              "      background-color: #E2EBFA;\n",
              "      box-shadow: 0px 1px 2px rgba(60, 64, 67, 0.3), 0px 1px 3px 1px rgba(60, 64, 67, 0.15);\n",
              "      fill: #174EA6;\n",
              "    }\n",
              "\n",
              "    [theme=dark] .colab-df-convert {\n",
              "      background-color: #3B4455;\n",
              "      fill: #D2E3FC;\n",
              "    }\n",
              "\n",
              "    [theme=dark] .colab-df-convert:hover {\n",
              "      background-color: #434B5C;\n",
              "      box-shadow: 0px 1px 3px 1px rgba(0, 0, 0, 0.15);\n",
              "      filter: drop-shadow(0px 1px 2px rgba(0, 0, 0, 0.3));\n",
              "      fill: #FFFFFF;\n",
              "    }\n",
              "  </style>\n",
              "\n",
              "      <script>\n",
              "        const buttonEl =\n",
              "          document.querySelector('#df-8b0f8676-78d3-4f6a-a949-46496a54d09c button.colab-df-convert');\n",
              "        buttonEl.style.display =\n",
              "          google.colab.kernel.accessAllowed ? 'block' : 'none';\n",
              "\n",
              "        async function convertToInteractive(key) {\n",
              "          const element = document.querySelector('#df-8b0f8676-78d3-4f6a-a949-46496a54d09c');\n",
              "          const dataTable =\n",
              "            await google.colab.kernel.invokeFunction('convertToInteractive',\n",
              "                                                     [key], {});\n",
              "          if (!dataTable) return;\n",
              "\n",
              "          const docLinkHtml = 'Like what you see? Visit the ' +\n",
              "            '<a target=\"_blank\" href=https://colab.research.google.com/notebooks/data_table.ipynb>data table notebook</a>'\n",
              "            + ' to learn more about interactive tables.';\n",
              "          element.innerHTML = '';\n",
              "          dataTable['output_type'] = 'display_data';\n",
              "          await google.colab.output.renderOutput(dataTable, element);\n",
              "          const docLink = document.createElement('div');\n",
              "          docLink.innerHTML = docLinkHtml;\n",
              "          element.appendChild(docLink);\n",
              "        }\n",
              "      </script>\n",
              "    </div>\n",
              "  </div>\n",
              "  "
            ]
          },
          "metadata": {},
          "execution_count": 26
        }
      ],
      "source": [
        "df_similarity_analysis = pd.DataFrame({'WORD_ONE': list_strings_one, 'WORD_TWO': list_strings_two})\n",
        "\n",
        "\n",
        "df_similarity_analysis['WORD_ONE'] = df_similarity_analysis['WORD_ONE'].str.lower()\n",
        "df_similarity_analysis['WORD_TWO'] = df_similarity_analysis['WORD_TWO'].str.lower()\n",
        "\n",
        "df_similarity_analysis"
      ]
    },
    {
      "cell_type": "markdown",
      "source": [
        "STRINGS FREQUENCY"
      ],
      "metadata": {
        "id": "0mvb9r_qK7iW"
      }
    },
    {
      "cell_type": "code",
      "source": [
        "for idx, x in enumerate(df_similarity_analysis['WORD_ONE']):\n",
        "    print(len(x))\n",
        "    print(idx, x)\n",
        "   \n",
        "    res = {i : x.count(i) for i in set(x)} \n",
        "    print(str(res))\n",
        "    print()\n"
      ],
      "metadata": {
        "colab": {
          "base_uri": "https://localhost:8080/"
        },
        "id": "HjrU-tBCKYI9",
        "outputId": "c63b3bb7-d702-4547-8835-fb80392695b3"
      },
      "execution_count": 27,
      "outputs": [
        {
          "output_type": "stream",
          "name": "stdout",
          "text": [
            "6\n",
            "0 escola\n",
            "{'o': 1, 's': 1, 'c': 1, 'a': 1, 'l': 1, 'e': 1}\n",
            "\n",
            "14\n",
            "1 rio de janeiro\n",
            "{'j': 1, 'o': 2, 'r': 2, 'd': 1, 'i': 2, ' ': 2, 'a': 1, 'n': 1, 'e': 2}\n",
            "\n",
            "6\n",
            "2 brasil\n",
            "{'b': 1, 'r': 1, 'a': 1, 's': 1, 'i': 1, 'l': 1}\n",
            "\n",
            "8\n",
            "3 flamengo\n",
            "{'o': 1, 'f': 1, 'm': 1, 'a': 1, 'n': 1, 'l': 1, 'e': 1, 'g': 1}\n",
            "\n",
            "9\n",
            "4 são paulo\n",
            "{'o': 2, 'p': 1, 's': 1, ' ': 1, 'a': 1, 'u': 1, 'l': 1, 'ã': 1}\n",
            "\n",
            "8\n",
            "5 hospital\n",
            "{'h': 1, 'o': 1, 'p': 1, 's': 1, 'i': 1, 'a': 1, 't': 1, 'l': 1}\n",
            "\n",
            "7\n",
            "6 objeção\n",
            "{'j': 1, 'o': 2, 'e': 1, 'b': 1, 'ç': 1, 'ã': 1}\n",
            "\n",
            "9\n",
            "7 determine\n",
            "{'m': 1, 'r': 1, 'd': 1, 'i': 1, 'n': 1, 't': 1, 'e': 3}\n",
            "\n",
            "6\n",
            "8 jornal\n",
            "{'j': 1, 'o': 1, 'r': 1, 'a': 1, 'n': 1, 'l': 1}\n",
            "\n",
            "8\n",
            "9 alimento\n",
            "{'o': 1, 'm': 1, 'a': 1, 'i': 1, 'n': 1, 't': 1, 'l': 1, 'e': 1}\n",
            "\n"
          ]
        }
      ]
    },
    {
      "cell_type": "markdown",
      "source": [
        "CARACTER COUNT"
      ],
      "metadata": {
        "id": "t7S52v_ELMMj"
      }
    },
    {
      "cell_type": "code",
      "source": [
        "list_count_one = []\n",
        "for x in df_similarity_analysis['WORD_ONE']:\n",
        "    # print(len(x))\n",
        "    list_count_one.append(len(x))\n",
        "\n",
        "list_count_two = []\n",
        "for x in df_similarity_analysis['WORD_TWO']:\n",
        "    # print(len(x))\n",
        "    list_count_two.append(len(x))\n",
        "\n",
        "df_similarity_analysis['COUNT_ONE'] = list_count_one\n",
        "df_similarity_analysis['COUNT_TWO'] = list_count_two\n",
        "df_similarity_analysis"
      ],
      "metadata": {
        "colab": {
          "base_uri": "https://localhost:8080/",
          "height": 363
        },
        "id": "lOGmK25MLSKy",
        "outputId": "76cd30d6-f283-4c85-e4fb-fe7b5243b0ae"
      },
      "execution_count": 28,
      "outputs": [
        {
          "output_type": "execute_result",
          "data": {
            "text/plain": [
              "         WORD_ONE       WORD_TWO  COUNT_ONE  COUNT_TWO\n",
              "0          escola   escolaridade          6         12\n",
              "1  rio de janeiro    rio_janeiro         14         11\n",
              "2          brasil     brasileiro          6         10\n",
              "3        flamengo   flamenguista          8         12\n",
              "4       são paulo    são-paulino          9         11\n",
              "5        hospital  hospitalizado          8         13\n",
              "6         objeção   objetividade          7         12\n",
              "7       determine   determinação          9         12\n",
              "8          jornal     jornalismo          6         10\n",
              "9        alimento    alimentação          8         11"
            ],
            "text/html": [
              "\n",
              "  <div id=\"df-dc003838-a446-4c0e-a142-1439bb43accc\">\n",
              "    <div class=\"colab-df-container\">\n",
              "      <div>\n",
              "<style scoped>\n",
              "    .dataframe tbody tr th:only-of-type {\n",
              "        vertical-align: middle;\n",
              "    }\n",
              "\n",
              "    .dataframe tbody tr th {\n",
              "        vertical-align: top;\n",
              "    }\n",
              "\n",
              "    .dataframe thead th {\n",
              "        text-align: right;\n",
              "    }\n",
              "</style>\n",
              "<table border=\"1\" class=\"dataframe\">\n",
              "  <thead>\n",
              "    <tr style=\"text-align: right;\">\n",
              "      <th></th>\n",
              "      <th>WORD_ONE</th>\n",
              "      <th>WORD_TWO</th>\n",
              "      <th>COUNT_ONE</th>\n",
              "      <th>COUNT_TWO</th>\n",
              "    </tr>\n",
              "  </thead>\n",
              "  <tbody>\n",
              "    <tr>\n",
              "      <th>0</th>\n",
              "      <td>escola</td>\n",
              "      <td>escolaridade</td>\n",
              "      <td>6</td>\n",
              "      <td>12</td>\n",
              "    </tr>\n",
              "    <tr>\n",
              "      <th>1</th>\n",
              "      <td>rio de janeiro</td>\n",
              "      <td>rio_janeiro</td>\n",
              "      <td>14</td>\n",
              "      <td>11</td>\n",
              "    </tr>\n",
              "    <tr>\n",
              "      <th>2</th>\n",
              "      <td>brasil</td>\n",
              "      <td>brasileiro</td>\n",
              "      <td>6</td>\n",
              "      <td>10</td>\n",
              "    </tr>\n",
              "    <tr>\n",
              "      <th>3</th>\n",
              "      <td>flamengo</td>\n",
              "      <td>flamenguista</td>\n",
              "      <td>8</td>\n",
              "      <td>12</td>\n",
              "    </tr>\n",
              "    <tr>\n",
              "      <th>4</th>\n",
              "      <td>são paulo</td>\n",
              "      <td>são-paulino</td>\n",
              "      <td>9</td>\n",
              "      <td>11</td>\n",
              "    </tr>\n",
              "    <tr>\n",
              "      <th>5</th>\n",
              "      <td>hospital</td>\n",
              "      <td>hospitalizado</td>\n",
              "      <td>8</td>\n",
              "      <td>13</td>\n",
              "    </tr>\n",
              "    <tr>\n",
              "      <th>6</th>\n",
              "      <td>objeção</td>\n",
              "      <td>objetividade</td>\n",
              "      <td>7</td>\n",
              "      <td>12</td>\n",
              "    </tr>\n",
              "    <tr>\n",
              "      <th>7</th>\n",
              "      <td>determine</td>\n",
              "      <td>determinação</td>\n",
              "      <td>9</td>\n",
              "      <td>12</td>\n",
              "    </tr>\n",
              "    <tr>\n",
              "      <th>8</th>\n",
              "      <td>jornal</td>\n",
              "      <td>jornalismo</td>\n",
              "      <td>6</td>\n",
              "      <td>10</td>\n",
              "    </tr>\n",
              "    <tr>\n",
              "      <th>9</th>\n",
              "      <td>alimento</td>\n",
              "      <td>alimentação</td>\n",
              "      <td>8</td>\n",
              "      <td>11</td>\n",
              "    </tr>\n",
              "  </tbody>\n",
              "</table>\n",
              "</div>\n",
              "      <button class=\"colab-df-convert\" onclick=\"convertToInteractive('df-dc003838-a446-4c0e-a142-1439bb43accc')\"\n",
              "              title=\"Convert this dataframe to an interactive table.\"\n",
              "              style=\"display:none;\">\n",
              "        \n",
              "  <svg xmlns=\"http://www.w3.org/2000/svg\" height=\"24px\"viewBox=\"0 0 24 24\"\n",
              "       width=\"24px\">\n",
              "    <path d=\"M0 0h24v24H0V0z\" fill=\"none\"/>\n",
              "    <path d=\"M18.56 5.44l.94 2.06.94-2.06 2.06-.94-2.06-.94-.94-2.06-.94 2.06-2.06.94zm-11 1L8.5 8.5l.94-2.06 2.06-.94-2.06-.94L8.5 2.5l-.94 2.06-2.06.94zm10 10l.94 2.06.94-2.06 2.06-.94-2.06-.94-.94-2.06-.94 2.06-2.06.94z\"/><path d=\"M17.41 7.96l-1.37-1.37c-.4-.4-.92-.59-1.43-.59-.52 0-1.04.2-1.43.59L10.3 9.45l-7.72 7.72c-.78.78-.78 2.05 0 2.83L4 21.41c.39.39.9.59 1.41.59.51 0 1.02-.2 1.41-.59l7.78-7.78 2.81-2.81c.8-.78.8-2.07 0-2.86zM5.41 20L4 18.59l7.72-7.72 1.47 1.35L5.41 20z\"/>\n",
              "  </svg>\n",
              "      </button>\n",
              "      \n",
              "  <style>\n",
              "    .colab-df-container {\n",
              "      display:flex;\n",
              "      flex-wrap:wrap;\n",
              "      gap: 12px;\n",
              "    }\n",
              "\n",
              "    .colab-df-convert {\n",
              "      background-color: #E8F0FE;\n",
              "      border: none;\n",
              "      border-radius: 50%;\n",
              "      cursor: pointer;\n",
              "      display: none;\n",
              "      fill: #1967D2;\n",
              "      height: 32px;\n",
              "      padding: 0 0 0 0;\n",
              "      width: 32px;\n",
              "    }\n",
              "\n",
              "    .colab-df-convert:hover {\n",
              "      background-color: #E2EBFA;\n",
              "      box-shadow: 0px 1px 2px rgba(60, 64, 67, 0.3), 0px 1px 3px 1px rgba(60, 64, 67, 0.15);\n",
              "      fill: #174EA6;\n",
              "    }\n",
              "\n",
              "    [theme=dark] .colab-df-convert {\n",
              "      background-color: #3B4455;\n",
              "      fill: #D2E3FC;\n",
              "    }\n",
              "\n",
              "    [theme=dark] .colab-df-convert:hover {\n",
              "      background-color: #434B5C;\n",
              "      box-shadow: 0px 1px 3px 1px rgba(0, 0, 0, 0.15);\n",
              "      filter: drop-shadow(0px 1px 2px rgba(0, 0, 0, 0.3));\n",
              "      fill: #FFFFFF;\n",
              "    }\n",
              "  </style>\n",
              "\n",
              "      <script>\n",
              "        const buttonEl =\n",
              "          document.querySelector('#df-dc003838-a446-4c0e-a142-1439bb43accc button.colab-df-convert');\n",
              "        buttonEl.style.display =\n",
              "          google.colab.kernel.accessAllowed ? 'block' : 'none';\n",
              "\n",
              "        async function convertToInteractive(key) {\n",
              "          const element = document.querySelector('#df-dc003838-a446-4c0e-a142-1439bb43accc');\n",
              "          const dataTable =\n",
              "            await google.colab.kernel.invokeFunction('convertToInteractive',\n",
              "                                                     [key], {});\n",
              "          if (!dataTable) return;\n",
              "\n",
              "          const docLinkHtml = 'Like what you see? Visit the ' +\n",
              "            '<a target=\"_blank\" href=https://colab.research.google.com/notebooks/data_table.ipynb>data table notebook</a>'\n",
              "            + ' to learn more about interactive tables.';\n",
              "          element.innerHTML = '';\n",
              "          dataTable['output_type'] = 'display_data';\n",
              "          await google.colab.output.renderOutput(dataTable, element);\n",
              "          const docLink = document.createElement('div');\n",
              "          docLink.innerHTML = docLinkHtml;\n",
              "          element.appendChild(docLink);\n",
              "        }\n",
              "      </script>\n",
              "    </div>\n",
              "  </div>\n",
              "  "
            ]
          },
          "metadata": {},
          "execution_count": 28
        }
      ]
    },
    {
      "cell_type": "markdown",
      "source": [
        "MOST FREQUENT VALUES"
      ],
      "metadata": {
        "id": "N1CRxgTJL9yq"
      }
    },
    {
      "cell_type": "code",
      "source": [
        "df_similarity_analysis['COUNT_ONE'].value_counts()"
      ],
      "metadata": {
        "colab": {
          "base_uri": "https://localhost:8080/"
        },
        "id": "Wxhe2YsKLba4",
        "outputId": "09747322-d6eb-4132-fca3-127d561084d8"
      },
      "execution_count": 29,
      "outputs": [
        {
          "output_type": "execute_result",
          "data": {
            "text/plain": [
              "6     3\n",
              "8     3\n",
              "9     2\n",
              "14    1\n",
              "7     1\n",
              "Name: COUNT_ONE, dtype: int64"
            ]
          },
          "metadata": {},
          "execution_count": 29
        }
      ]
    },
    {
      "cell_type": "code",
      "source": [
        "df_similarity_analysis['COUNT_ONE'].describe()"
      ],
      "metadata": {
        "colab": {
          "base_uri": "https://localhost:8080/"
        },
        "id": "a0xwq1YVMORM",
        "outputId": "df9dc26b-8264-4a9e-8bf6-6266d1e27ba0"
      },
      "execution_count": 30,
      "outputs": [
        {
          "output_type": "execute_result",
          "data": {
            "text/plain": [
              "count    10.000000\n",
              "mean      8.100000\n",
              "std       2.378141\n",
              "min       6.000000\n",
              "25%       6.250000\n",
              "50%       8.000000\n",
              "75%       8.750000\n",
              "max      14.000000\n",
              "Name: COUNT_ONE, dtype: float64"
            ]
          },
          "metadata": {},
          "execution_count": 30
        }
      ]
    },
    {
      "cell_type": "code",
      "source": [
        "df_similarity_analysis['COUNT_TWO'].value_counts()"
      ],
      "metadata": {
        "colab": {
          "base_uri": "https://localhost:8080/"
        },
        "id": "kwQo4ZabMHpc",
        "outputId": "8d9ac20c-be01-4089-91aa-63dd465e2419"
      },
      "execution_count": 31,
      "outputs": [
        {
          "output_type": "execute_result",
          "data": {
            "text/plain": [
              "12    4\n",
              "11    3\n",
              "10    2\n",
              "13    1\n",
              "Name: COUNT_TWO, dtype: int64"
            ]
          },
          "metadata": {},
          "execution_count": 31
        }
      ]
    },
    {
      "cell_type": "code",
      "source": [
        "df_similarity_analysis['COUNT_TWO'].describe()"
      ],
      "metadata": {
        "colab": {
          "base_uri": "https://localhost:8080/"
        },
        "id": "hijiJ8S7MSo8",
        "outputId": "3bc592df-d6eb-4e03-b0b8-f2c7822aff3c"
      },
      "execution_count": 32,
      "outputs": [
        {
          "output_type": "execute_result",
          "data": {
            "text/plain": [
              "count    10.000000\n",
              "mean     11.400000\n",
              "std       0.966092\n",
              "min      10.000000\n",
              "25%      11.000000\n",
              "50%      11.500000\n",
              "75%      12.000000\n",
              "max      13.000000\n",
              "Name: COUNT_TWO, dtype: float64"
            ]
          },
          "metadata": {},
          "execution_count": 32
        }
      ]
    },
    {
      "cell_type": "markdown",
      "source": [
        "JELLYFISH"
      ],
      "metadata": {
        "id": "RM2r0tzoMZcp"
      }
    },
    {
      "cell_type": "markdown",
      "source": [
        "INSTALL"
      ],
      "metadata": {
        "id": "iBF_kmOSM_d4"
      }
    },
    {
      "cell_type": "code",
      "source": [
        "!pip install jellyfish;"
      ],
      "metadata": {
        "colab": {
          "base_uri": "https://localhost:8080/"
        },
        "id": "uullqc05McyI",
        "outputId": "7ad390a7-1634-4fe0-ea11-658fbd22efad"
      },
      "execution_count": 33,
      "outputs": [
        {
          "output_type": "stream",
          "name": "stdout",
          "text": [
            "Looking in indexes: https://pypi.org/simple, https://us-python.pkg.dev/colab-wheels/public/simple/\n",
            "Requirement already satisfied: jellyfish in /usr/local/lib/python3.7/dist-packages (0.9.0)\n"
          ]
        }
      ]
    },
    {
      "cell_type": "markdown",
      "source": [
        "IMPORTS"
      ],
      "metadata": {
        "id": "KD5tXqNaNAzb"
      }
    },
    {
      "cell_type": "code",
      "source": [
        "import jellyfish as jf"
      ],
      "metadata": {
        "id": "iXNUehcSMd6l"
      },
      "execution_count": 34,
      "outputs": []
    },
    {
      "cell_type": "markdown",
      "source": [
        "IS THERE A WORD INSIDE ANOTHER?"
      ],
      "metadata": {
        "id": "6WpCelOONCMW"
      }
    },
    {
      "cell_type": "code",
      "source": [
        "jf.match_rating_comparison('escola', 'Escolaridade')"
      ],
      "metadata": {
        "colab": {
          "base_uri": "https://localhost:8080/"
        },
        "id": "B1HZME9iMhbS",
        "outputId": "89802d58-dfdd-41bb-aa5e-155d6ef38b02"
      },
      "execution_count": 35,
      "outputs": [
        {
          "output_type": "execute_result",
          "data": {
            "text/plain": [
              "True"
            ]
          },
          "metadata": {},
          "execution_count": 35
        }
      ]
    },
    {
      "cell_type": "markdown",
      "source": [
        "HOW MANY LETTERS WERE FOUND?"
      ],
      "metadata": {
        "id": "B1bDh2FxNKjR"
      }
    },
    {
      "cell_type": "code",
      "source": [
        "jf.levenshtein_distance('escola', 'Escolaridade')"
      ],
      "metadata": {
        "colab": {
          "base_uri": "https://localhost:8080/"
        },
        "id": "C7XgbLPdMm1g",
        "outputId": "1b78c3c8-9b0e-4b61-ec59-91135707db6d"
      },
      "execution_count": 36,
      "outputs": [
        {
          "output_type": "execute_result",
          "data": {
            "text/plain": [
              "7"
            ]
          },
          "metadata": {},
          "execution_count": 36
        }
      ]
    },
    {
      "cell_type": "markdown",
      "source": [
        "DIFF MATCH PATCH"
      ],
      "metadata": {
        "id": "J9c5sCODNW-C"
      }
    },
    {
      "cell_type": "markdown",
      "source": [
        "INSTALL"
      ],
      "metadata": {
        "id": "h2afEzwbNZrf"
      }
    },
    {
      "cell_type": "code",
      "source": [
        "!pip install diff-match-patch;"
      ],
      "metadata": {
        "colab": {
          "base_uri": "https://localhost:8080/"
        },
        "id": "iwQ_ZG4sNaa2",
        "outputId": "f330cfb5-5d60-46c5-df19-1f7329c728e7"
      },
      "execution_count": 37,
      "outputs": [
        {
          "output_type": "stream",
          "name": "stdout",
          "text": [
            "Looking in indexes: https://pypi.org/simple, https://us-python.pkg.dev/colab-wheels/public/simple/\n",
            "Requirement already satisfied: diff-match-patch in /usr/local/lib/python3.7/dist-packages (20200713)\n"
          ]
        }
      ]
    },
    {
      "cell_type": "markdown",
      "source": [
        "IMPORTS"
      ],
      "metadata": {
        "id": "tiC-34LnNdVA"
      }
    },
    {
      "cell_type": "code",
      "source": [
        "from diff_match_patch import diff_match_patch"
      ],
      "metadata": {
        "id": "bpCOlucZNbzk"
      },
      "execution_count": 38,
      "outputs": []
    },
    {
      "cell_type": "markdown",
      "source": [
        "FUNCTION OF SIMILARITY"
      ],
      "metadata": {
        "id": "oAypS97FNgJ8"
      }
    },
    {
      "cell_type": "code",
      "source": [
        "def compute_similarity_and_diff(text1, text2):\n",
        "    ''' Função que compara uma string com outra e verifica se existe similaridade.\n",
        "    Function that compares one string with another and checks for similarity. '''\n",
        "    \n",
        "    dmp = diff_match_patch()\n",
        "    dmp.Diff_Timeout = 0.0\n",
        "    diff = dmp.diff_main(text1, text2, False)\n",
        "\n",
        "    # similarity\n",
        "    common_text = sum([len(txt) for op, txt in diff if op == 0])\n",
        "    text_length = max(len(text1), len(text2))\n",
        "    sim = common_text / text_length\n",
        "\n",
        "    return sim, diff"
      ],
      "metadata": {
        "id": "b07XCZ63NejF"
      },
      "execution_count": 39,
      "outputs": []
    },
    {
      "cell_type": "code",
      "source": [
        "compute_similarity_and_diff('escola', 'escolaridade')"
      ],
      "metadata": {
        "colab": {
          "base_uri": "https://localhost:8080/"
        },
        "id": "d71k3GfFOGf4",
        "outputId": "8dc5396f-e09a-4369-e347-875526b00e88"
      },
      "execution_count": 40,
      "outputs": [
        {
          "output_type": "execute_result",
          "data": {
            "text/plain": [
              "(0.5, [(0, 'escola'), (1, 'ridade')])"
            ]
          },
          "metadata": {},
          "execution_count": 40
        }
      ]
    },
    {
      "cell_type": "code",
      "source": [
        "compute_similarity_and_diff('escola', 'Escolaridade')"
      ],
      "metadata": {
        "colab": {
          "base_uri": "https://localhost:8080/"
        },
        "id": "P8YP-6zyN78a",
        "outputId": "0516addf-4f90-4d1c-b8c9-590a62d01a5a"
      },
      "execution_count": 41,
      "outputs": [
        {
          "output_type": "execute_result",
          "data": {
            "text/plain": [
              "(0.4166666666666667, [(-1, 'e'), (1, 'E'), (0, 'scola'), (1, 'ridade')])"
            ]
          },
          "metadata": {},
          "execution_count": 41
        }
      ]
    },
    {
      "cell_type": "markdown",
      "source": [
        "COLUMN OF SIMILAR WORDS"
      ],
      "metadata": {
        "id": "xL_uj4-lOgSf"
      }
    },
    {
      "cell_type": "code",
      "source": [
        "df_similarity_analysis"
      ],
      "metadata": {
        "colab": {
          "base_uri": "https://localhost:8080/",
          "height": 363
        },
        "id": "65qap8u2N-XU",
        "outputId": "25ed8f95-fd94-47e7-8bd7-e0bd5d380c4e"
      },
      "execution_count": 42,
      "outputs": [
        {
          "output_type": "execute_result",
          "data": {
            "text/plain": [
              "         WORD_ONE       WORD_TWO  COUNT_ONE  COUNT_TWO\n",
              "0          escola   escolaridade          6         12\n",
              "1  rio de janeiro    rio_janeiro         14         11\n",
              "2          brasil     brasileiro          6         10\n",
              "3        flamengo   flamenguista          8         12\n",
              "4       são paulo    são-paulino          9         11\n",
              "5        hospital  hospitalizado          8         13\n",
              "6         objeção   objetividade          7         12\n",
              "7       determine   determinação          9         12\n",
              "8          jornal     jornalismo          6         10\n",
              "9        alimento    alimentação          8         11"
            ],
            "text/html": [
              "\n",
              "  <div id=\"df-805c8e01-7ec9-400c-8a8c-002c487fc0b9\">\n",
              "    <div class=\"colab-df-container\">\n",
              "      <div>\n",
              "<style scoped>\n",
              "    .dataframe tbody tr th:only-of-type {\n",
              "        vertical-align: middle;\n",
              "    }\n",
              "\n",
              "    .dataframe tbody tr th {\n",
              "        vertical-align: top;\n",
              "    }\n",
              "\n",
              "    .dataframe thead th {\n",
              "        text-align: right;\n",
              "    }\n",
              "</style>\n",
              "<table border=\"1\" class=\"dataframe\">\n",
              "  <thead>\n",
              "    <tr style=\"text-align: right;\">\n",
              "      <th></th>\n",
              "      <th>WORD_ONE</th>\n",
              "      <th>WORD_TWO</th>\n",
              "      <th>COUNT_ONE</th>\n",
              "      <th>COUNT_TWO</th>\n",
              "    </tr>\n",
              "  </thead>\n",
              "  <tbody>\n",
              "    <tr>\n",
              "      <th>0</th>\n",
              "      <td>escola</td>\n",
              "      <td>escolaridade</td>\n",
              "      <td>6</td>\n",
              "      <td>12</td>\n",
              "    </tr>\n",
              "    <tr>\n",
              "      <th>1</th>\n",
              "      <td>rio de janeiro</td>\n",
              "      <td>rio_janeiro</td>\n",
              "      <td>14</td>\n",
              "      <td>11</td>\n",
              "    </tr>\n",
              "    <tr>\n",
              "      <th>2</th>\n",
              "      <td>brasil</td>\n",
              "      <td>brasileiro</td>\n",
              "      <td>6</td>\n",
              "      <td>10</td>\n",
              "    </tr>\n",
              "    <tr>\n",
              "      <th>3</th>\n",
              "      <td>flamengo</td>\n",
              "      <td>flamenguista</td>\n",
              "      <td>8</td>\n",
              "      <td>12</td>\n",
              "    </tr>\n",
              "    <tr>\n",
              "      <th>4</th>\n",
              "      <td>são paulo</td>\n",
              "      <td>são-paulino</td>\n",
              "      <td>9</td>\n",
              "      <td>11</td>\n",
              "    </tr>\n",
              "    <tr>\n",
              "      <th>5</th>\n",
              "      <td>hospital</td>\n",
              "      <td>hospitalizado</td>\n",
              "      <td>8</td>\n",
              "      <td>13</td>\n",
              "    </tr>\n",
              "    <tr>\n",
              "      <th>6</th>\n",
              "      <td>objeção</td>\n",
              "      <td>objetividade</td>\n",
              "      <td>7</td>\n",
              "      <td>12</td>\n",
              "    </tr>\n",
              "    <tr>\n",
              "      <th>7</th>\n",
              "      <td>determine</td>\n",
              "      <td>determinação</td>\n",
              "      <td>9</td>\n",
              "      <td>12</td>\n",
              "    </tr>\n",
              "    <tr>\n",
              "      <th>8</th>\n",
              "      <td>jornal</td>\n",
              "      <td>jornalismo</td>\n",
              "      <td>6</td>\n",
              "      <td>10</td>\n",
              "    </tr>\n",
              "    <tr>\n",
              "      <th>9</th>\n",
              "      <td>alimento</td>\n",
              "      <td>alimentação</td>\n",
              "      <td>8</td>\n",
              "      <td>11</td>\n",
              "    </tr>\n",
              "  </tbody>\n",
              "</table>\n",
              "</div>\n",
              "      <button class=\"colab-df-convert\" onclick=\"convertToInteractive('df-805c8e01-7ec9-400c-8a8c-002c487fc0b9')\"\n",
              "              title=\"Convert this dataframe to an interactive table.\"\n",
              "              style=\"display:none;\">\n",
              "        \n",
              "  <svg xmlns=\"http://www.w3.org/2000/svg\" height=\"24px\"viewBox=\"0 0 24 24\"\n",
              "       width=\"24px\">\n",
              "    <path d=\"M0 0h24v24H0V0z\" fill=\"none\"/>\n",
              "    <path d=\"M18.56 5.44l.94 2.06.94-2.06 2.06-.94-2.06-.94-.94-2.06-.94 2.06-2.06.94zm-11 1L8.5 8.5l.94-2.06 2.06-.94-2.06-.94L8.5 2.5l-.94 2.06-2.06.94zm10 10l.94 2.06.94-2.06 2.06-.94-2.06-.94-.94-2.06-.94 2.06-2.06.94z\"/><path d=\"M17.41 7.96l-1.37-1.37c-.4-.4-.92-.59-1.43-.59-.52 0-1.04.2-1.43.59L10.3 9.45l-7.72 7.72c-.78.78-.78 2.05 0 2.83L4 21.41c.39.39.9.59 1.41.59.51 0 1.02-.2 1.41-.59l7.78-7.78 2.81-2.81c.8-.78.8-2.07 0-2.86zM5.41 20L4 18.59l7.72-7.72 1.47 1.35L5.41 20z\"/>\n",
              "  </svg>\n",
              "      </button>\n",
              "      \n",
              "  <style>\n",
              "    .colab-df-container {\n",
              "      display:flex;\n",
              "      flex-wrap:wrap;\n",
              "      gap: 12px;\n",
              "    }\n",
              "\n",
              "    .colab-df-convert {\n",
              "      background-color: #E8F0FE;\n",
              "      border: none;\n",
              "      border-radius: 50%;\n",
              "      cursor: pointer;\n",
              "      display: none;\n",
              "      fill: #1967D2;\n",
              "      height: 32px;\n",
              "      padding: 0 0 0 0;\n",
              "      width: 32px;\n",
              "    }\n",
              "\n",
              "    .colab-df-convert:hover {\n",
              "      background-color: #E2EBFA;\n",
              "      box-shadow: 0px 1px 2px rgba(60, 64, 67, 0.3), 0px 1px 3px 1px rgba(60, 64, 67, 0.15);\n",
              "      fill: #174EA6;\n",
              "    }\n",
              "\n",
              "    [theme=dark] .colab-df-convert {\n",
              "      background-color: #3B4455;\n",
              "      fill: #D2E3FC;\n",
              "    }\n",
              "\n",
              "    [theme=dark] .colab-df-convert:hover {\n",
              "      background-color: #434B5C;\n",
              "      box-shadow: 0px 1px 3px 1px rgba(0, 0, 0, 0.15);\n",
              "      filter: drop-shadow(0px 1px 2px rgba(0, 0, 0, 0.3));\n",
              "      fill: #FFFFFF;\n",
              "    }\n",
              "  </style>\n",
              "\n",
              "      <script>\n",
              "        const buttonEl =\n",
              "          document.querySelector('#df-805c8e01-7ec9-400c-8a8c-002c487fc0b9 button.colab-df-convert');\n",
              "        buttonEl.style.display =\n",
              "          google.colab.kernel.accessAllowed ? 'block' : 'none';\n",
              "\n",
              "        async function convertToInteractive(key) {\n",
              "          const element = document.querySelector('#df-805c8e01-7ec9-400c-8a8c-002c487fc0b9');\n",
              "          const dataTable =\n",
              "            await google.colab.kernel.invokeFunction('convertToInteractive',\n",
              "                                                     [key], {});\n",
              "          if (!dataTable) return;\n",
              "\n",
              "          const docLinkHtml = 'Like what you see? Visit the ' +\n",
              "            '<a target=\"_blank\" href=https://colab.research.google.com/notebooks/data_table.ipynb>data table notebook</a>'\n",
              "            + ' to learn more about interactive tables.';\n",
              "          element.innerHTML = '';\n",
              "          dataTable['output_type'] = 'display_data';\n",
              "          await google.colab.output.renderOutput(dataTable, element);\n",
              "          const docLink = document.createElement('div');\n",
              "          docLink.innerHTML = docLinkHtml;\n",
              "          element.appendChild(docLink);\n",
              "        }\n",
              "      </script>\n",
              "    </div>\n",
              "  </div>\n",
              "  "
            ]
          },
          "metadata": {},
          "execution_count": 42
        }
      ]
    },
    {
      "cell_type": "code",
      "source": [
        "list_word_one = df_similarity_analysis['WORD_ONE']\n",
        "list_word_two = df_similarity_analysis['WORD_TWO']\n",
        "\n",
        "list_word_x0 = []\n",
        "list_word_x1 = []\n",
        "list_similarity = []\n",
        "\n",
        "similarity = [(list_word_x0.append(x[0]), list_word_x1.append(x[1]), list_similarity.append(compute_similarity_and_diff(x[0], x[1]))) for x in zip(list_word_one, list_word_two)]"
      ],
      "metadata": {
        "id": "OE1ku_eFOxYk"
      },
      "execution_count": 43,
      "outputs": []
    },
    {
      "cell_type": "code",
      "source": [
        "df_similarity = pd.DataFrame()\n",
        "df_similarity['WORD_X0'] = list_word_x0\n",
        "df_similarity['WORD_X1'] = list_word_x1\n",
        "df_similarity['SIMILARITY'] = list_similarity\n",
        "\n",
        "df_similarity"
      ],
      "metadata": {
        "colab": {
          "base_uri": "https://localhost:8080/",
          "height": 363
        },
        "id": "64GgQf8VPcDz",
        "outputId": "66939780-e81c-47c2-e7a9-70187dc3c63a"
      },
      "execution_count": 44,
      "outputs": [
        {
          "output_type": "execute_result",
          "data": {
            "text/plain": [
              "          WORD_X0        WORD_X1  \\\n",
              "0          escola   escolaridade   \n",
              "1  rio de janeiro    rio_janeiro   \n",
              "2          brasil     brasileiro   \n",
              "3        flamengo   flamenguista   \n",
              "4       são paulo    são-paulino   \n",
              "5        hospital  hospitalizado   \n",
              "6         objeção   objetividade   \n",
              "7       determine   determinação   \n",
              "8          jornal     jornalismo   \n",
              "9        alimento    alimentação   \n",
              "\n",
              "                                          SIMILARITY  \n",
              "0                  (0.5, [(0, escola), (1, ridade)])  \n",
              "1  (0.7142857142857143, [(0, rio), (-1,  de ), (1...  \n",
              "2                    (0.6, [(0, brasil), (1, eiro)])  \n",
              "3  (0.5833333333333334, [(0, flameng), (-1, o), (...  \n",
              "4  (0.7272727272727273, [(0, são), (-1,  ), (1, -...  \n",
              "5  (0.6153846153846154, [(0, hospital), (1, izado)])  \n",
              "6  (0.3333333333333333, [(0, obje), (-1, ção), (1...  \n",
              "7  (0.6666666666666666, [(0, determin), (-1, e), ...  \n",
              "8                    (0.6, [(0, jornal), (1, ismo)])  \n",
              "9  (0.7272727272727273, [(0, aliment), (1, açã), ...  "
            ],
            "text/html": [
              "\n",
              "  <div id=\"df-13916c47-9169-42d6-b995-da0a37fd045f\">\n",
              "    <div class=\"colab-df-container\">\n",
              "      <div>\n",
              "<style scoped>\n",
              "    .dataframe tbody tr th:only-of-type {\n",
              "        vertical-align: middle;\n",
              "    }\n",
              "\n",
              "    .dataframe tbody tr th {\n",
              "        vertical-align: top;\n",
              "    }\n",
              "\n",
              "    .dataframe thead th {\n",
              "        text-align: right;\n",
              "    }\n",
              "</style>\n",
              "<table border=\"1\" class=\"dataframe\">\n",
              "  <thead>\n",
              "    <tr style=\"text-align: right;\">\n",
              "      <th></th>\n",
              "      <th>WORD_X0</th>\n",
              "      <th>WORD_X1</th>\n",
              "      <th>SIMILARITY</th>\n",
              "    </tr>\n",
              "  </thead>\n",
              "  <tbody>\n",
              "    <tr>\n",
              "      <th>0</th>\n",
              "      <td>escola</td>\n",
              "      <td>escolaridade</td>\n",
              "      <td>(0.5, [(0, escola), (1, ridade)])</td>\n",
              "    </tr>\n",
              "    <tr>\n",
              "      <th>1</th>\n",
              "      <td>rio de janeiro</td>\n",
              "      <td>rio_janeiro</td>\n",
              "      <td>(0.7142857142857143, [(0, rio), (-1,  de ), (1...</td>\n",
              "    </tr>\n",
              "    <tr>\n",
              "      <th>2</th>\n",
              "      <td>brasil</td>\n",
              "      <td>brasileiro</td>\n",
              "      <td>(0.6, [(0, brasil), (1, eiro)])</td>\n",
              "    </tr>\n",
              "    <tr>\n",
              "      <th>3</th>\n",
              "      <td>flamengo</td>\n",
              "      <td>flamenguista</td>\n",
              "      <td>(0.5833333333333334, [(0, flameng), (-1, o), (...</td>\n",
              "    </tr>\n",
              "    <tr>\n",
              "      <th>4</th>\n",
              "      <td>são paulo</td>\n",
              "      <td>são-paulino</td>\n",
              "      <td>(0.7272727272727273, [(0, são), (-1,  ), (1, -...</td>\n",
              "    </tr>\n",
              "    <tr>\n",
              "      <th>5</th>\n",
              "      <td>hospital</td>\n",
              "      <td>hospitalizado</td>\n",
              "      <td>(0.6153846153846154, [(0, hospital), (1, izado)])</td>\n",
              "    </tr>\n",
              "    <tr>\n",
              "      <th>6</th>\n",
              "      <td>objeção</td>\n",
              "      <td>objetividade</td>\n",
              "      <td>(0.3333333333333333, [(0, obje), (-1, ção), (1...</td>\n",
              "    </tr>\n",
              "    <tr>\n",
              "      <th>7</th>\n",
              "      <td>determine</td>\n",
              "      <td>determinação</td>\n",
              "      <td>(0.6666666666666666, [(0, determin), (-1, e), ...</td>\n",
              "    </tr>\n",
              "    <tr>\n",
              "      <th>8</th>\n",
              "      <td>jornal</td>\n",
              "      <td>jornalismo</td>\n",
              "      <td>(0.6, [(0, jornal), (1, ismo)])</td>\n",
              "    </tr>\n",
              "    <tr>\n",
              "      <th>9</th>\n",
              "      <td>alimento</td>\n",
              "      <td>alimentação</td>\n",
              "      <td>(0.7272727272727273, [(0, aliment), (1, açã), ...</td>\n",
              "    </tr>\n",
              "  </tbody>\n",
              "</table>\n",
              "</div>\n",
              "      <button class=\"colab-df-convert\" onclick=\"convertToInteractive('df-13916c47-9169-42d6-b995-da0a37fd045f')\"\n",
              "              title=\"Convert this dataframe to an interactive table.\"\n",
              "              style=\"display:none;\">\n",
              "        \n",
              "  <svg xmlns=\"http://www.w3.org/2000/svg\" height=\"24px\"viewBox=\"0 0 24 24\"\n",
              "       width=\"24px\">\n",
              "    <path d=\"M0 0h24v24H0V0z\" fill=\"none\"/>\n",
              "    <path d=\"M18.56 5.44l.94 2.06.94-2.06 2.06-.94-2.06-.94-.94-2.06-.94 2.06-2.06.94zm-11 1L8.5 8.5l.94-2.06 2.06-.94-2.06-.94L8.5 2.5l-.94 2.06-2.06.94zm10 10l.94 2.06.94-2.06 2.06-.94-2.06-.94-.94-2.06-.94 2.06-2.06.94z\"/><path d=\"M17.41 7.96l-1.37-1.37c-.4-.4-.92-.59-1.43-.59-.52 0-1.04.2-1.43.59L10.3 9.45l-7.72 7.72c-.78.78-.78 2.05 0 2.83L4 21.41c.39.39.9.59 1.41.59.51 0 1.02-.2 1.41-.59l7.78-7.78 2.81-2.81c.8-.78.8-2.07 0-2.86zM5.41 20L4 18.59l7.72-7.72 1.47 1.35L5.41 20z\"/>\n",
              "  </svg>\n",
              "      </button>\n",
              "      \n",
              "  <style>\n",
              "    .colab-df-container {\n",
              "      display:flex;\n",
              "      flex-wrap:wrap;\n",
              "      gap: 12px;\n",
              "    }\n",
              "\n",
              "    .colab-df-convert {\n",
              "      background-color: #E8F0FE;\n",
              "      border: none;\n",
              "      border-radius: 50%;\n",
              "      cursor: pointer;\n",
              "      display: none;\n",
              "      fill: #1967D2;\n",
              "      height: 32px;\n",
              "      padding: 0 0 0 0;\n",
              "      width: 32px;\n",
              "    }\n",
              "\n",
              "    .colab-df-convert:hover {\n",
              "      background-color: #E2EBFA;\n",
              "      box-shadow: 0px 1px 2px rgba(60, 64, 67, 0.3), 0px 1px 3px 1px rgba(60, 64, 67, 0.15);\n",
              "      fill: #174EA6;\n",
              "    }\n",
              "\n",
              "    [theme=dark] .colab-df-convert {\n",
              "      background-color: #3B4455;\n",
              "      fill: #D2E3FC;\n",
              "    }\n",
              "\n",
              "    [theme=dark] .colab-df-convert:hover {\n",
              "      background-color: #434B5C;\n",
              "      box-shadow: 0px 1px 3px 1px rgba(0, 0, 0, 0.15);\n",
              "      filter: drop-shadow(0px 1px 2px rgba(0, 0, 0, 0.3));\n",
              "      fill: #FFFFFF;\n",
              "    }\n",
              "  </style>\n",
              "\n",
              "      <script>\n",
              "        const buttonEl =\n",
              "          document.querySelector('#df-13916c47-9169-42d6-b995-da0a37fd045f button.colab-df-convert');\n",
              "        buttonEl.style.display =\n",
              "          google.colab.kernel.accessAllowed ? 'block' : 'none';\n",
              "\n",
              "        async function convertToInteractive(key) {\n",
              "          const element = document.querySelector('#df-13916c47-9169-42d6-b995-da0a37fd045f');\n",
              "          const dataTable =\n",
              "            await google.colab.kernel.invokeFunction('convertToInteractive',\n",
              "                                                     [key], {});\n",
              "          if (!dataTable) return;\n",
              "\n",
              "          const docLinkHtml = 'Like what you see? Visit the ' +\n",
              "            '<a target=\"_blank\" href=https://colab.research.google.com/notebooks/data_table.ipynb>data table notebook</a>'\n",
              "            + ' to learn more about interactive tables.';\n",
              "          element.innerHTML = '';\n",
              "          dataTable['output_type'] = 'display_data';\n",
              "          await google.colab.output.renderOutput(dataTable, element);\n",
              "          const docLink = document.createElement('div');\n",
              "          docLink.innerHTML = docLinkHtml;\n",
              "          element.appendChild(docLink);\n",
              "        }\n",
              "      </script>\n",
              "    </div>\n",
              "  </div>\n",
              "  "
            ]
          },
          "metadata": {},
          "execution_count": 44
        }
      ]
    },
    {
      "cell_type": "code",
      "source": [
        "list_similarity = []\n",
        "\n",
        "for x in df_similarity['SIMILARITY']:\n",
        "    similarity = x[1]\n",
        "    caracter = ''\n",
        "    for y in similarity:\n",
        "        if 0 in y:\n",
        "            caracter = caracter + str(y[1].lower())\n",
        "\n",
        "    list_similarity.append(caracter)\n",
        "\n",
        "df_similarity['SIMILAR_WORDS'] = list_similarity\n",
        "df_similarity.to_excel('similarity.xlsx')"
      ],
      "metadata": {
        "id": "pdwuZnVOQVwN"
      },
      "execution_count": 45,
      "outputs": []
    },
    {
      "cell_type": "code",
      "source": [
        "df_similarity"
      ],
      "metadata": {
        "colab": {
          "base_uri": "https://localhost:8080/",
          "height": 363
        },
        "id": "bZxjk04oQrl9",
        "outputId": "3633643e-8fc5-4c38-a347-08014f8bd9cf"
      },
      "execution_count": 46,
      "outputs": [
        {
          "output_type": "execute_result",
          "data": {
            "text/plain": [
              "          WORD_X0        WORD_X1  \\\n",
              "0          escola   escolaridade   \n",
              "1  rio de janeiro    rio_janeiro   \n",
              "2          brasil     brasileiro   \n",
              "3        flamengo   flamenguista   \n",
              "4       são paulo    são-paulino   \n",
              "5        hospital  hospitalizado   \n",
              "6         objeção   objetividade   \n",
              "7       determine   determinação   \n",
              "8          jornal     jornalismo   \n",
              "9        alimento    alimentação   \n",
              "\n",
              "                                          SIMILARITY SIMILAR_WORDS  \n",
              "0                  (0.5, [(0, escola), (1, ridade)])        escola  \n",
              "1  (0.7142857142857143, [(0, rio), (-1,  de ), (1...    riojaneiro  \n",
              "2                    (0.6, [(0, brasil), (1, eiro)])        brasil  \n",
              "3  (0.5833333333333334, [(0, flameng), (-1, o), (...       flameng  \n",
              "4  (0.7272727272727273, [(0, são), (-1,  ), (1, -...      sãopaulo  \n",
              "5  (0.6153846153846154, [(0, hospital), (1, izado)])      hospital  \n",
              "6  (0.3333333333333333, [(0, obje), (-1, ção), (1...          obje  \n",
              "7  (0.6666666666666666, [(0, determin), (-1, e), ...      determin  \n",
              "8                    (0.6, [(0, jornal), (1, ismo)])        jornal  \n",
              "9  (0.7272727272727273, [(0, aliment), (1, açã), ...      alimento  "
            ],
            "text/html": [
              "\n",
              "  <div id=\"df-9d3e2720-39ec-4675-abf1-10e42e68d9d9\">\n",
              "    <div class=\"colab-df-container\">\n",
              "      <div>\n",
              "<style scoped>\n",
              "    .dataframe tbody tr th:only-of-type {\n",
              "        vertical-align: middle;\n",
              "    }\n",
              "\n",
              "    .dataframe tbody tr th {\n",
              "        vertical-align: top;\n",
              "    }\n",
              "\n",
              "    .dataframe thead th {\n",
              "        text-align: right;\n",
              "    }\n",
              "</style>\n",
              "<table border=\"1\" class=\"dataframe\">\n",
              "  <thead>\n",
              "    <tr style=\"text-align: right;\">\n",
              "      <th></th>\n",
              "      <th>WORD_X0</th>\n",
              "      <th>WORD_X1</th>\n",
              "      <th>SIMILARITY</th>\n",
              "      <th>SIMILAR_WORDS</th>\n",
              "    </tr>\n",
              "  </thead>\n",
              "  <tbody>\n",
              "    <tr>\n",
              "      <th>0</th>\n",
              "      <td>escola</td>\n",
              "      <td>escolaridade</td>\n",
              "      <td>(0.5, [(0, escola), (1, ridade)])</td>\n",
              "      <td>escola</td>\n",
              "    </tr>\n",
              "    <tr>\n",
              "      <th>1</th>\n",
              "      <td>rio de janeiro</td>\n",
              "      <td>rio_janeiro</td>\n",
              "      <td>(0.7142857142857143, [(0, rio), (-1,  de ), (1...</td>\n",
              "      <td>riojaneiro</td>\n",
              "    </tr>\n",
              "    <tr>\n",
              "      <th>2</th>\n",
              "      <td>brasil</td>\n",
              "      <td>brasileiro</td>\n",
              "      <td>(0.6, [(0, brasil), (1, eiro)])</td>\n",
              "      <td>brasil</td>\n",
              "    </tr>\n",
              "    <tr>\n",
              "      <th>3</th>\n",
              "      <td>flamengo</td>\n",
              "      <td>flamenguista</td>\n",
              "      <td>(0.5833333333333334, [(0, flameng), (-1, o), (...</td>\n",
              "      <td>flameng</td>\n",
              "    </tr>\n",
              "    <tr>\n",
              "      <th>4</th>\n",
              "      <td>são paulo</td>\n",
              "      <td>são-paulino</td>\n",
              "      <td>(0.7272727272727273, [(0, são), (-1,  ), (1, -...</td>\n",
              "      <td>sãopaulo</td>\n",
              "    </tr>\n",
              "    <tr>\n",
              "      <th>5</th>\n",
              "      <td>hospital</td>\n",
              "      <td>hospitalizado</td>\n",
              "      <td>(0.6153846153846154, [(0, hospital), (1, izado)])</td>\n",
              "      <td>hospital</td>\n",
              "    </tr>\n",
              "    <tr>\n",
              "      <th>6</th>\n",
              "      <td>objeção</td>\n",
              "      <td>objetividade</td>\n",
              "      <td>(0.3333333333333333, [(0, obje), (-1, ção), (1...</td>\n",
              "      <td>obje</td>\n",
              "    </tr>\n",
              "    <tr>\n",
              "      <th>7</th>\n",
              "      <td>determine</td>\n",
              "      <td>determinação</td>\n",
              "      <td>(0.6666666666666666, [(0, determin), (-1, e), ...</td>\n",
              "      <td>determin</td>\n",
              "    </tr>\n",
              "    <tr>\n",
              "      <th>8</th>\n",
              "      <td>jornal</td>\n",
              "      <td>jornalismo</td>\n",
              "      <td>(0.6, [(0, jornal), (1, ismo)])</td>\n",
              "      <td>jornal</td>\n",
              "    </tr>\n",
              "    <tr>\n",
              "      <th>9</th>\n",
              "      <td>alimento</td>\n",
              "      <td>alimentação</td>\n",
              "      <td>(0.7272727272727273, [(0, aliment), (1, açã), ...</td>\n",
              "      <td>alimento</td>\n",
              "    </tr>\n",
              "  </tbody>\n",
              "</table>\n",
              "</div>\n",
              "      <button class=\"colab-df-convert\" onclick=\"convertToInteractive('df-9d3e2720-39ec-4675-abf1-10e42e68d9d9')\"\n",
              "              title=\"Convert this dataframe to an interactive table.\"\n",
              "              style=\"display:none;\">\n",
              "        \n",
              "  <svg xmlns=\"http://www.w3.org/2000/svg\" height=\"24px\"viewBox=\"0 0 24 24\"\n",
              "       width=\"24px\">\n",
              "    <path d=\"M0 0h24v24H0V0z\" fill=\"none\"/>\n",
              "    <path d=\"M18.56 5.44l.94 2.06.94-2.06 2.06-.94-2.06-.94-.94-2.06-.94 2.06-2.06.94zm-11 1L8.5 8.5l.94-2.06 2.06-.94-2.06-.94L8.5 2.5l-.94 2.06-2.06.94zm10 10l.94 2.06.94-2.06 2.06-.94-2.06-.94-.94-2.06-.94 2.06-2.06.94z\"/><path d=\"M17.41 7.96l-1.37-1.37c-.4-.4-.92-.59-1.43-.59-.52 0-1.04.2-1.43.59L10.3 9.45l-7.72 7.72c-.78.78-.78 2.05 0 2.83L4 21.41c.39.39.9.59 1.41.59.51 0 1.02-.2 1.41-.59l7.78-7.78 2.81-2.81c.8-.78.8-2.07 0-2.86zM5.41 20L4 18.59l7.72-7.72 1.47 1.35L5.41 20z\"/>\n",
              "  </svg>\n",
              "      </button>\n",
              "      \n",
              "  <style>\n",
              "    .colab-df-container {\n",
              "      display:flex;\n",
              "      flex-wrap:wrap;\n",
              "      gap: 12px;\n",
              "    }\n",
              "\n",
              "    .colab-df-convert {\n",
              "      background-color: #E8F0FE;\n",
              "      border: none;\n",
              "      border-radius: 50%;\n",
              "      cursor: pointer;\n",
              "      display: none;\n",
              "      fill: #1967D2;\n",
              "      height: 32px;\n",
              "      padding: 0 0 0 0;\n",
              "      width: 32px;\n",
              "    }\n",
              "\n",
              "    .colab-df-convert:hover {\n",
              "      background-color: #E2EBFA;\n",
              "      box-shadow: 0px 1px 2px rgba(60, 64, 67, 0.3), 0px 1px 3px 1px rgba(60, 64, 67, 0.15);\n",
              "      fill: #174EA6;\n",
              "    }\n",
              "\n",
              "    [theme=dark] .colab-df-convert {\n",
              "      background-color: #3B4455;\n",
              "      fill: #D2E3FC;\n",
              "    }\n",
              "\n",
              "    [theme=dark] .colab-df-convert:hover {\n",
              "      background-color: #434B5C;\n",
              "      box-shadow: 0px 1px 3px 1px rgba(0, 0, 0, 0.15);\n",
              "      filter: drop-shadow(0px 1px 2px rgba(0, 0, 0, 0.3));\n",
              "      fill: #FFFFFF;\n",
              "    }\n",
              "  </style>\n",
              "\n",
              "      <script>\n",
              "        const buttonEl =\n",
              "          document.querySelector('#df-9d3e2720-39ec-4675-abf1-10e42e68d9d9 button.colab-df-convert');\n",
              "        buttonEl.style.display =\n",
              "          google.colab.kernel.accessAllowed ? 'block' : 'none';\n",
              "\n",
              "        async function convertToInteractive(key) {\n",
              "          const element = document.querySelector('#df-9d3e2720-39ec-4675-abf1-10e42e68d9d9');\n",
              "          const dataTable =\n",
              "            await google.colab.kernel.invokeFunction('convertToInteractive',\n",
              "                                                     [key], {});\n",
              "          if (!dataTable) return;\n",
              "\n",
              "          const docLinkHtml = 'Like what you see? Visit the ' +\n",
              "            '<a target=\"_blank\" href=https://colab.research.google.com/notebooks/data_table.ipynb>data table notebook</a>'\n",
              "            + ' to learn more about interactive tables.';\n",
              "          element.innerHTML = '';\n",
              "          dataTable['output_type'] = 'display_data';\n",
              "          await google.colab.output.renderOutput(dataTable, element);\n",
              "          const docLink = document.createElement('div');\n",
              "          docLink.innerHTML = docLinkHtml;\n",
              "          element.appendChild(docLink);\n",
              "        }\n",
              "      </script>\n",
              "    </div>\n",
              "  </div>\n",
              "  "
            ]
          },
          "metadata": {},
          "execution_count": 46
        }
      ]
    }
  ]
}