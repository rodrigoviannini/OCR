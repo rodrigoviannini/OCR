{
  "nbformat": 4,
  "nbformat_minor": 0,
  "metadata": {
    "colab": {
      "provenance": [],
      "collapsed_sections": []
    },
    "kernelspec": {
      "name": "python3",
      "display_name": "Python 3"
    },
    "language_info": {
      "name": "python"
    }
  },
  "cells": [
    {
      "cell_type": "markdown",
      "source": [
        "## INSTALL"
      ],
      "metadata": {
        "id": "SWli5bu37BNO"
      }
    },
    {
      "cell_type": "code",
      "source": [
        "!pip install --upgrade azure-cognitiveservices-vision-computervision;"
      ],
      "metadata": {
        "colab": {
          "base_uri": "https://localhost:8080/"
        },
        "id": "XRCo_wIMO082",
        "outputId": "ddc009ee-7e6e-4a64-b4a2-e2fa86be81d9"
      },
      "execution_count": null,
      "outputs": [
        {
          "output_type": "stream",
          "name": "stdout",
          "text": [
            "Looking in indexes: https://pypi.org/simple, https://us-python.pkg.dev/colab-wheels/public/simple/\n",
            "Collecting azure-cognitiveservices-vision-computervision\n",
            "  Downloading azure_cognitiveservices_vision_computervision-0.9.0-py2.py3-none-any.whl (39 kB)\n",
            "Collecting azure-common~=1.1\n",
            "  Downloading azure_common-1.1.28-py2.py3-none-any.whl (14 kB)\n",
            "Collecting msrest>=0.5.0\n",
            "  Downloading msrest-0.7.1-py3-none-any.whl (85 kB)\n",
            "\u001b[K     |████████████████████████████████| 85 kB 3.8 MB/s \n",
            "\u001b[?25hRequirement already satisfied: requests-oauthlib>=0.5.0 in /usr/local/lib/python3.7/dist-packages (from msrest>=0.5.0->azure-cognitiveservices-vision-computervision) (1.3.1)\n",
            "Requirement already satisfied: certifi>=2017.4.17 in /usr/local/lib/python3.7/dist-packages (from msrest>=0.5.0->azure-cognitiveservices-vision-computervision) (2022.9.24)\n",
            "Collecting azure-core>=1.24.0\n",
            "  Downloading azure_core-1.26.0-py3-none-any.whl (178 kB)\n",
            "\u001b[K     |████████████████████████████████| 178 kB 44.2 MB/s \n",
            "\u001b[?25hCollecting isodate>=0.6.0\n",
            "  Downloading isodate-0.6.1-py2.py3-none-any.whl (41 kB)\n",
            "\u001b[K     |████████████████████████████████| 41 kB 501 kB/s \n",
            "\u001b[?25hRequirement already satisfied: requests~=2.16 in /usr/local/lib/python3.7/dist-packages (from msrest>=0.5.0->azure-cognitiveservices-vision-computervision) (2.23.0)\n",
            "Requirement already satisfied: six>=1.11.0 in /usr/local/lib/python3.7/dist-packages (from azure-core>=1.24.0->msrest>=0.5.0->azure-cognitiveservices-vision-computervision) (1.15.0)\n",
            "Requirement already satisfied: typing-extensions>=4.0.1 in /usr/local/lib/python3.7/dist-packages (from azure-core>=1.24.0->msrest>=0.5.0->azure-cognitiveservices-vision-computervision) (4.1.1)\n",
            "Requirement already satisfied: urllib3!=1.25.0,!=1.25.1,<1.26,>=1.21.1 in /usr/local/lib/python3.7/dist-packages (from requests~=2.16->msrest>=0.5.0->azure-cognitiveservices-vision-computervision) (1.24.3)\n",
            "Requirement already satisfied: idna<3,>=2.5 in /usr/local/lib/python3.7/dist-packages (from requests~=2.16->msrest>=0.5.0->azure-cognitiveservices-vision-computervision) (2.10)\n",
            "Requirement already satisfied: chardet<4,>=3.0.2 in /usr/local/lib/python3.7/dist-packages (from requests~=2.16->msrest>=0.5.0->azure-cognitiveservices-vision-computervision) (3.0.4)\n",
            "Requirement already satisfied: oauthlib>=3.0.0 in /usr/local/lib/python3.7/dist-packages (from requests-oauthlib>=0.5.0->msrest>=0.5.0->azure-cognitiveservices-vision-computervision) (3.2.2)\n",
            "Installing collected packages: isodate, azure-core, msrest, azure-common, azure-cognitiveservices-vision-computervision\n",
            "Successfully installed azure-cognitiveservices-vision-computervision-0.9.0 azure-common-1.1.28 azure-core-1.26.0 isodate-0.6.1 msrest-0.7.1\n"
          ]
        }
      ]
    },
    {
      "cell_type": "code",
      "source": [
        "from google.colab import drive\n",
        "drive.mount('/content/drive')"
      ],
      "metadata": {
        "colab": {
          "base_uri": "https://localhost:8080/"
        },
        "id": "HPSbcOl_O1G3",
        "outputId": "5fb96b2f-089b-4281-a2b4-2e448c916170"
      },
      "execution_count": null,
      "outputs": [
        {
          "output_type": "stream",
          "name": "stdout",
          "text": [
            "Mounted at /content/drive\n"
          ]
        }
      ]
    },
    {
      "cell_type": "markdown",
      "source": [
        "##IMPORTS"
      ],
      "metadata": {
        "id": "SgFO19IPZlDq"
      }
    },
    {
      "cell_type": "code",
      "source": [
        "import os\n",
        "import sys\n",
        "import time\n",
        "import pandas as pd\n",
        "\n",
        "from azure.cognitiveservices.vision.computervision import ComputerVisionClient\n",
        "from azure.cognitiveservices.vision.computervision.models import OperationStatusCodes\n",
        "from azure.cognitiveservices.vision.computervision.models import VisualFeatureTypes\n",
        "from msrest.authentication import CognitiveServicesCredentials"
      ],
      "metadata": {
        "id": "5p8mg9OuCvmw"
      },
      "execution_count": null,
      "outputs": []
    },
    {
      "cell_type": "code",
      "source": [
        "subscription_key = 'INSERT AZURE KEY'\n",
        "endpoint = 'https://visionleitura.cognitiveservices.azure.com/'\n",
        "computervision_client = ComputerVisionClient(endpoint, CognitiveServicesCredentials(subscription_key))"
      ],
      "metadata": {
        "id": "Lpq8_59Fctov"
      },
      "execution_count": null,
      "outputs": []
    },
    {
      "cell_type": "markdown",
      "source": [
        "##FUNCTION | MS AZURE | OCR"
      ],
      "metadata": {
        "id": "zQWxWDFKZpkZ"
      }
    },
    {
      "cell_type": "markdown",
      "source": [
        "PROJECT: XXX\n",
        "\n",
        "OBJECT: IMAGE\n",
        "\n",
        "ACTIVITY: OCR\n",
        "\n",
        "ADDITIONAL: RegEX"
      ],
      "metadata": {
        "id": "mSXCa5HSZucT"
      }
    },
    {
      "cell_type": "code",
      "source": [
        "import re\n",
        "def clean_ocr_text(ocr):\n",
        "    \"\"\" Esta função realiza a limpeza do texto utilizando expressões regulares (RegEX) e função replace.\n",
        "    This function performs text cleaning using regular expressions (RegEX) and replace function. \"\"\"\n",
        "    \n",
        "    del_ = ['Cabo', 'Caber', 'Cab', 'Cont', 'Est',\n",
        "            'ey', 'Com', 'Proc', 'Cool', 'Ext',\n",
        "            'Co', 'abo', 'OPR', 'Rst', 'Fst', 'nt', \n",
        "            'ANATEL', 'Cahn', 'oi','Caha', 'Caho',\n",
        "            'Cant', 'ANATE', 'ANAT', 'Et', 'Came',\n",
        "            'CABO ÓPTICO', 'V TAL', 'VTAL', '\\n', \n",
        "            'Caha:', 'Caha: ', 'plaqueta', 'queLa']     \n",
        "            \n",
        "    text = str(ocr)\n",
        "    for item in del_:\n",
        "        text = text.replace(str(item) , '').strip()\n",
        "        text = text.replace(' ','')\n",
        "        text = text.replace(\"&\",\"8\")\n",
        "        text = text.replace(\"|\",\"I\")\n",
        "        text = text.replace(\"×\",\"X\")\n",
        "        text = text.replace(\"g\",\"9\")\n",
        "        text = re.sub(r\"[][().:;_\\\"'ـه₦-]\",\"\", text)\n",
        "\n",
        "    return text\n",
        "\n",
        "def extract_azure_ocr(filepath):\n",
        "    \"\"\" This function returns OCR (Optical character recognition) which is the process that\n",
        "    converts text in image format to text in human-readable character format.\n",
        "    \n",
        "    Esta função retorna OCR (Optical character recognition) que é o processo que \n",
        "    converte um texto em formato de imagem em um texto em formato de caracteres legíveis.\"\"\"\n",
        "\n",
        "    content = open(filepath, 'rb')\n",
        "    try:\n",
        "        read_response = computervision_client.read_in_stream(content, raw=True)\n",
        "        read_operation_location = read_response.headers[\"Operation-Location\"]\n",
        "        operation_id = read_operation_location.split(\"/\")[-1]\n",
        "\n",
        "        while True:\n",
        "            read_result = computervision_client.get_read_result(operation_id)\n",
        "            if read_result.status.lower() not in ['notstarted', 'running']:\n",
        "                break\n",
        "            time.sleep(0.2)\n",
        "\n",
        "        if read_result.status == OperationStatusCodes.succeeded:\n",
        "            texts = ''\n",
        "            for text_result in read_result.analyze_result.read_results:\n",
        "                for line in text_result.lines:\n",
        "                    texts = texts + ' ' + line.text\n",
        "            return clean_ocr_text(texts)\n",
        "        else:\n",
        "            print('Azure: unexpected status (', read_result.status, ') for file:', filepath)\n",
        "    except:\n",
        "        print('Azure: fail to request OCR for file:', filepath)\n",
        "\n",
        "    return ''"
      ],
      "metadata": {
        "id": "EoSStJ9fETwD"
      },
      "execution_count": null,
      "outputs": []
    },
    {
      "cell_type": "code",
      "source": [
        "img = '/content/drive/MyDrive/gestao_obras_2/Datasets/IMAGENS_TESTES/CROP_IMAGES/CROPPED/CROP_IMAGES/img_bot_114254201_10102022215403_predict.jpg'"
      ],
      "metadata": {
        "id": "PrsJcJipDOGV"
      },
      "execution_count": null,
      "outputs": []
    },
    {
      "cell_type": "code",
      "source": [
        "extract_azure_ocr(img)"
      ],
      "metadata": {
        "colab": {
          "base_uri": "https://localhost:8080/",
          "height": 36
        },
        "id": "szMsGHpCDyEk",
        "outputId": "a9951905-0433-43f0-ecc4-0190df2e2975"
      },
      "execution_count": null,
      "outputs": [
        {
          "output_type": "execute_result",
          "data": {
            "text/plain": [
              "'41K2P37F867PT04'"
            ],
            "application/vnd.google.colaboratory.intrinsic+json": {
              "type": "string"
            }
          },
          "metadata": {},
          "execution_count": 21
        }
      ]
    }
  ]
}